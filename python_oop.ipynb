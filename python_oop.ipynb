{
  "nbformat": 4,
  "nbformat_minor": 0,
  "metadata": {
    "colab": {
      "provenance": [],
      "authorship_tag": "ABX9TyMslaEcaOzk4gq1idUP2daD",
      "include_colab_link": true
    },
    "kernelspec": {
      "name": "python3",
      "display_name": "Python 3"
    },
    "language_info": {
      "name": "python"
    }
  },
  "cells": [
    {
      "cell_type": "markdown",
      "metadata": {
        "id": "view-in-github",
        "colab_type": "text"
      },
      "source": [
        "<a href=\"https://colab.research.google.com/github/arnab-mridha/python_coding/blob/main/python_oop.ipynb\" target=\"_parent\"><img src=\"https://colab.research.google.com/assets/colab-badge.svg\" alt=\"Open In Colab\"/></a>"
      ]
    },
    {
      "cell_type": "code",
      "execution_count": null,
      "metadata": {
        "colab": {
          "base_uri": "https://localhost:8080/"
        },
        "id": "9bftr1M3eajQ",
        "outputId": "8ec40290-7869-4d2a-ee0e-9af3b6e4b04f"
      },
      "outputs": [
        {
          "output_type": "stream",
          "name": "stdout",
          "text": [
            "50\n",
            "<class 'str'>\n",
            "<class 'int'>\n"
          ]
        }
      ],
      "source": [
        "item1 = 'phone'\n",
        "item1_price = 10\n",
        "item1_number = 5\n",
        "item1_total_price = item1_price*item1_number\n",
        "print(item1_total_price)\n",
        "\n",
        "print(type(item1))\n",
        "print(type(item1_total_price))"
      ]
    },
    {
      "cell_type": "markdown",
      "source": [
        "# ***Classes in Python***"
      ],
      "metadata": {
        "id": "ZbpmQcAcnDtv"
      }
    },
    {
      "cell_type": "code",
      "source": [
        "class item:\n",
        "  all = []\n",
        "  def __init__(self,name,price,quan=0):\n",
        "    #assertion\n",
        "    assert price>=0,f\"price {price} should be greater than zero\"\n",
        "    assert quan>=0\n",
        "    #assignment of values\n",
        "    self.name = name\n",
        "    self.price = price\n",
        "    self.quan = quan\n",
        "\n",
        "    #populating the all\n",
        "    item.all.append(self)\n",
        "  # __str__\n",
        "  def __str__(self):\n",
        "    return f\"This is {self.name}\"  \n",
        "  # __repr__\n",
        "  def __repr__(self):\n",
        "    return f\"item('{self.name}',{self.price},{self.quan})\"\n",
        "\n",
        "  def cal_price(self):\n",
        "    return self.price*self.quan\n",
        "\n",
        "\n",
        "item1 = item(\"apple\",100,5)\n",
        "item2 = item(\"mango\",20,10)\n",
        "item3 = item(\"guava\",20,10)\n",
        "item4 = item(\"lichi\",20,10)\n",
        "item5 = item(\"banana\",20,10)\n",
        "\n"
      ],
      "metadata": {
        "id": "prh2zj2BnGuc"
      },
      "execution_count": null,
      "outputs": []
    },
    {
      "cell_type": "code",
      "source": [
        " for instance in item.all:\n",
        "  print(repr(instance))\n",
        "#print(item1)"
      ],
      "metadata": {
        "colab": {
          "base_uri": "https://localhost:8080/"
        },
        "id": "OXmwtSVBcPU7",
        "outputId": "1bc8759f-5127-4ff2-ec06-23b8cdf49861"
      },
      "execution_count": null,
      "outputs": [
        {
          "output_type": "stream",
          "name": "stdout",
          "text": [
            "item('apple',100,5)\n",
            "item('mango',20,10)\n",
            "item('guava',20,10)\n",
            "item('lichi',20,10)\n",
            "item('banana',20,10)\n"
          ]
        }
      ]
    },
    {
      "cell_type": "code",
      "source": [
        "print(item1)"
      ],
      "metadata": {
        "colab": {
          "base_uri": "https://localhost:8080/"
        },
        "id": "MFxoKyccjOxI",
        "outputId": "ba77b15e-c4a4-4258-d9c8-fcb7ab453c09"
      },
      "execution_count": null,
      "outputs": [
        {
          "output_type": "stream",
          "name": "stdout",
          "text": [
            "This is apple\n"
          ]
        }
      ]
    },
    {
      "cell_type": "code",
      "source": [
        "print(item.__dict__)\n",
        "print(item1.__dict__)"
      ],
      "metadata": {
        "colab": {
          "base_uri": "https://localhost:8080/"
        },
        "id": "WF-P3oNHXFzn",
        "outputId": "725ed108-d032-4946-a9e0-afe60f301988"
      },
      "execution_count": null,
      "outputs": [
        {
          "output_type": "stream",
          "name": "stdout",
          "text": [
            "{'__module__': '__main__', 'all': [item('apple',100,5), item('mango',20,10), item('guava',20,10), item('lichi',20,10), item('banana',20,10)], '__init__': <function item.__init__ at 0x7f2f5b5bab00>, '__str__': <function item.__str__ at 0x7f2f5b5ba440>, '__repr__': <function item.__repr__ at 0x7f2f5b5bab90>, 'cal_price': <function item.cal_price at 0x7f2f5b5ba9e0>, '__dict__': <attribute '__dict__' of 'item' objects>, '__weakref__': <attribute '__weakref__' of 'item' objects>, '__doc__': None}\n",
            "{'name': 'apple', 'price': 100, 'quan': 5}\n"
          ]
        }
      ]
    },
    {
      "cell_type": "markdown",
      "source": [
        "# special function in python( __str__ and **__repr__**)\n",
        "\n",
        "---\n"
      ],
      "metadata": {
        "id": "mOvWnh0WQrw-"
      }
    },
    {
      "cell_type": "code",
      "source": [
        "class student:\n",
        "  def __init__(self,name,std):\n",
        "    print(\"constructor called\")\n",
        "    self.name = name\n",
        "    self.std = std\n",
        "\n",
        "  def __str__(self):\n",
        "    print('str executed')\n",
        "    return f\"str .. {self.name}_{self.std}\"\n",
        "\n",
        "  def __repr__(self):\n",
        "    print('repr executed')\n",
        "    return f\"repr .. {self.name}_{self.std}\"\n",
        "\n",
        "\n",
        "\n"
      ],
      "metadata": {
        "id": "7aWLRdq4PyAi"
      },
      "execution_count": null,
      "outputs": []
    },
    {
      "cell_type": "code",
      "source": [
        "std_obj = student(\"sfaf\",10)\n",
        "std_obj2 = student(\"sfaf2\",20)\n",
        "print([std_obj,std_obj2])\n",
        "print(std_obj)"
      ],
      "metadata": {
        "colab": {
          "base_uri": "https://localhost:8080/"
        },
        "id": "vdKIjT2AQoVw",
        "outputId": "df499c78-a520-443a-d04e-a8310450ddd9"
      },
      "execution_count": null,
      "outputs": [
        {
          "output_type": "stream",
          "name": "stdout",
          "text": [
            "constructor called\n",
            "constructor called\n",
            "repr executed\n",
            "repr executed\n",
            "[repr .. sfaf_10, repr .. sfaf2_20]\n",
            "str executed\n",
            "str .. sfaf_10\n"
          ]
        }
      ]
    },
    {
      "cell_type": "code",
      "source": [
        "arr = [std_obj,std_obj2]\n",
        "for i in arr:\n",
        "  print(i)"
      ],
      "metadata": {
        "colab": {
          "base_uri": "https://localhost:8080/"
        },
        "id": "HO4zdhUSvx3V",
        "outputId": "7ea0c6a6-8995-4141-bb91-01d1092882fb"
      },
      "execution_count": null,
      "outputs": [
        {
          "output_type": "stream",
          "name": "stdout",
          "text": [
            "str executed\n",
            "str .. sfaf_10\n",
            "str executed\n",
            "str .. sfaf2_20\n"
          ]
        }
      ]
    },
    {
      "cell_type": "markdown",
      "source": [
        "# **class method and static method**"
      ],
      "metadata": {
        "id": "geujMDV6Qqtj"
      }
    },
    {
      "cell_type": "code",
      "source": [
        "from google.colab import drive\n",
        "drive.mount('/content/drive')"
      ],
      "metadata": {
        "colab": {
          "base_uri": "https://localhost:8080/"
        },
        "id": "oiS5RNg-sPgd",
        "outputId": "b775f7df-b0b4-40ff-dc51-b2a75d39a2c6"
      },
      "execution_count": null,
      "outputs": [
        {
          "output_type": "stream",
          "name": "stdout",
          "text": [
            "Mounted at /content/drive\n"
          ]
        }
      ]
    },
    {
      "cell_type": "code",
      "source": [
        "import csv\n",
        "\n",
        "class item:\n",
        "  item_class_variable = 0\n",
        "  all = []\n",
        "  def __init__(self,name,price,quan=0):\n",
        "    #assertion\n",
        "    assert price>=0,f\"price {price} should be greater than zero\"\n",
        "    assert quan>=0\n",
        "    #assignment of values\n",
        "    self.name = name\n",
        "    self.price = price\n",
        "    self.quan = quan\n",
        "\n",
        "    #populating the all\n",
        "    item.all.append(self)\n",
        "  # __str__\n",
        "  def __str__(self):\n",
        "    return f\"This is {self.name}\"  \n",
        "  # __repr__\n",
        "  def __repr__(self):\n",
        "    return f\"item('{self.name}',{self.price},{self.quan})\"\n",
        "  #class function\n",
        "\n",
        "  @classmethod\n",
        "  def instantiate_from_csv(cls):\n",
        "    with open('/content/drive/MyDrive/csv_files/python_oop.csv','r') as f:\n",
        "      reader = csv.DictReader(f)\n",
        "      it = list(reader)\n",
        "\n",
        "      for i in it:\n",
        "        item(name = i.get('name'),\n",
        "             price = float(i.get('Price')),\n",
        "             quan = int(i.get('Quan'))\n",
        "             )\n",
        "  #static method\n",
        "\n",
        "  @staticmethod\n",
        "  def is_num_integer(num):\n",
        "    if isinstance(num, float):\n",
        "      return num.is_integer()\n",
        "    elif isinstance(num,int):\n",
        "      return True\n",
        "    else:\n",
        "      return False\n",
        "  @classmethod\n",
        "  def set_value(cls,val):\n",
        "    cls.item_class_variable = val\n",
        "\n",
        "  def cal_price(self):\n",
        "    return self.price*self.quan"
      ],
      "metadata": {
        "id": "IA1GvpRNyrt-"
      },
      "execution_count": null,
      "outputs": []
    },
    {
      "cell_type": "code",
      "source": [
        "item.instantiate_from_csv()\n",
        "print(item.all)\n",
        "\n",
        "print(item.is_num_integer(10))\n",
        "print(item.is_num_integer(10.0))\n",
        "print(item.is_num_integer(10.1))"
      ],
      "metadata": {
        "colab": {
          "base_uri": "https://localhost:8080/"
        },
        "id": "OIaway9rBIby",
        "outputId": "023b67cc-3d36-4297-b05b-ea661fc03800"
      },
      "execution_count": null,
      "outputs": [
        {
          "output_type": "stream",
          "name": "stdout",
          "text": [
            "[item('‘apple’',100.0,1), item('‘mango’',200.0,6), item('‘lichi’',100.0,4), item('‘guava’',1000.0,5), item('‘pineapple’',30.0,4)]\n",
            "True\n",
            "True\n",
            "False\n"
          ]
        }
      ]
    },
    {
      "cell_type": "code",
      "source": [
        "item1 = item(\"apple\",100,5)\n",
        "item2 = item(\"mango\",20,10)\n",
        "\n",
        "print(item.item_class_variable)\n",
        "item1.set_value(2)\n",
        "print(item1.item_class_variable)\n",
        "item.set_value(1)\n",
        "print(item2.item_class_variable)"
      ],
      "metadata": {
        "colab": {
          "base_uri": "https://localhost:8080/"
        },
        "id": "kVYIgWN0a1Xf",
        "outputId": "d87f6bc5-395b-4cfb-cfc2-02a0f0d149dc"
      },
      "execution_count": null,
      "outputs": [
        {
          "output_type": "stream",
          "name": "stdout",
          "text": [
            "2\n",
            "2\n",
            "1\n"
          ]
        }
      ]
    },
    {
      "cell_type": "markdown",
      "source": [
        "\n",
        "\n",
        "---\n",
        "\n",
        "\n",
        "# ***inherietance***\n",
        "\n",
        "\n",
        "---\n",
        "\n",
        "\n",
        "\n"
      ],
      "metadata": {
        "id": "uRzIta9e2GxP"
      }
    },
    {
      "cell_type": "code",
      "source": [
        "class item:\n",
        "  item_class_variable = 0\n",
        "  all = []\n",
        "  def __init__(self,name,price,quan=0):\n",
        "    #assertion\n",
        "    assert price>=0,f\"price {price} should be greater than zero\"\n",
        "    assert quan>=0\n",
        "    #assignment of values\n",
        "    self.name = name\n",
        "    self.price = price\n",
        "    self.quan = quan\n",
        "\n",
        "    #populating the all\n",
        "    item.all.append(self)\n",
        "  # __str__\n",
        "  def __str__(self):\n",
        "    return f\"This is {self.name}\"  \n",
        "  # __repr__\n",
        "  def __repr__(self):\n",
        "    return f\"item('{self.name}',{self.price},{self.quan})\"\n",
        "  #class function\n",
        "\n",
        "  @classmethod\n",
        "  def instantiate_from_csv(cls):\n",
        "    with open('/content/drive/MyDrive/csv_files/python_oop.csv','r') as f:\n",
        "      reader = csv.DictReader(f)\n",
        "      it = list(reader)\n",
        "\n",
        "      for i in it:\n",
        "        item(name = i.get('name'),\n",
        "             price = float(i.get('Price')),\n",
        "             quan = int(i.get('Quan'))\n",
        "             )\n",
        "  #static method\n",
        "\n",
        "  @staticmethod\n",
        "  def is_num_integer(num):\n",
        "    if isinstance(num, float):\n",
        "      return num.is_integer()\n",
        "    elif isinstance(num,int):\n",
        "      return True\n",
        "    else:\n",
        "      return False\n",
        "  @classmethod\n",
        "  def set_value(cls,val):\n",
        "    cls.item_class_variable = val\n",
        "\n",
        "  def cal_price(self):\n",
        "    return self.price*self.quan\n",
        "\n",
        "\n",
        "    "
      ],
      "metadata": {
        "id": "3oJnfOUg2U6f"
      },
      "execution_count": null,
      "outputs": []
    },
    {
      "cell_type": "code",
      "source": [
        "class phone(item):\n",
        "  all = []\n",
        "  def __init__(self,name,price,quan,is_browken):\n",
        "    super().__init__(\n",
        "        name,price,quan\n",
        "    )\n",
        "    self.is_browken = is_browken\n",
        "    phone.all.append(self)\n",
        "\n",
        "\n",
        "phone1 = phone('one_plus',50000,10,False)\n",
        "print(phone1.cal_price())\n",
        "print(phone.all)"
      ],
      "metadata": {
        "colab": {
          "base_uri": "https://localhost:8080/"
        },
        "id": "TwgPbCfs4JvE",
        "outputId": "0dc83692-65e6-4d76-e5b3-67d5097f01fd"
      },
      "execution_count": null,
      "outputs": [
        {
          "output_type": "stream",
          "name": "stdout",
          "text": [
            "500000\n",
            "[item('one_plus',50000,10)]\n"
          ]
        }
      ]
    }
  ]
}